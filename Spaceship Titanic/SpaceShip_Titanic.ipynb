{
 "cells": [
  {
   "cell_type": "markdown",
   "id": "bd24e714-be08-4765-afc7-17fdee47c123",
   "metadata": {
    "tags": []
   },
   "source": [
    "# Spaceship Titanic"
   ]
  },
  {
   "cell_type": "markdown",
   "id": "2b525b76-b9dd-4ec6-935f-8ba5701ef617",
   "metadata": {
    "tags": []
   },
   "source": [
    "## 1.0 Introduction and Downloading dataset"
   ]
  },
  {
   "cell_type": "code",
   "execution_count": 1,
   "id": "d40de8bb-b7bf-48ee-a8ca-ac8120301ba6",
   "metadata": {
    "tags": []
   },
   "outputs": [],
   "source": [
    "import pandas as pd"
   ]
  },
  {
   "cell_type": "code",
   "execution_count": 2,
   "id": "776f6123-11ce-4090-b06f-e5ebdc4f8f03",
   "metadata": {
    "tags": []
   },
   "outputs": [],
   "source": [
    "import warnings\n",
    "from pandas.errors import PerformanceWarning\n",
    "warnings.filterwarnings('ignore')\n",
    "warnings.filterwarnings(\"ignore\", category=PerformanceWarning)"
   ]
  },
  {
   "cell_type": "code",
   "execution_count": 3,
   "id": "ef34726e-52a2-4463-8c0e-884bbc4395d3",
   "metadata": {
    "tags": []
   },
   "outputs": [],
   "source": [
    "df = pd.read_csv('dataset/train.csv')\n",
    "df_test = pd.read_csv('dataset/test.csv')"
   ]
  },
  {
   "cell_type": "code",
   "execution_count": 4,
   "id": "6aca9297-d6e6-4b4c-9cf2-1ddc6d4f79aa",
   "metadata": {
    "tags": []
   },
   "outputs": [
    {
     "data": {
      "text/html": [
       "<div>\n",
       "<style scoped>\n",
       "    .dataframe tbody tr th:only-of-type {\n",
       "        vertical-align: middle;\n",
       "    }\n",
       "\n",
       "    .dataframe tbody tr th {\n",
       "        vertical-align: top;\n",
       "    }\n",
       "\n",
       "    .dataframe thead th {\n",
       "        text-align: right;\n",
       "    }\n",
       "</style>\n",
       "<table border=\"1\" class=\"dataframe\">\n",
       "  <thead>\n",
       "    <tr style=\"text-align: right;\">\n",
       "      <th></th>\n",
       "      <th>PassengerId</th>\n",
       "      <th>HomePlanet</th>\n",
       "      <th>CryoSleep</th>\n",
       "      <th>Cabin</th>\n",
       "      <th>Destination</th>\n",
       "      <th>Age</th>\n",
       "      <th>VIP</th>\n",
       "      <th>RoomService</th>\n",
       "      <th>FoodCourt</th>\n",
       "      <th>ShoppingMall</th>\n",
       "      <th>Spa</th>\n",
       "      <th>VRDeck</th>\n",
       "      <th>Name</th>\n",
       "      <th>Transported</th>\n",
       "    </tr>\n",
       "  </thead>\n",
       "  <tbody>\n",
       "    <tr>\n",
       "      <th>0</th>\n",
       "      <td>0001_01</td>\n",
       "      <td>Europa</td>\n",
       "      <td>False</td>\n",
       "      <td>B/0/P</td>\n",
       "      <td>TRAPPIST-1e</td>\n",
       "      <td>39.0</td>\n",
       "      <td>False</td>\n",
       "      <td>0.0</td>\n",
       "      <td>0.0</td>\n",
       "      <td>0.0</td>\n",
       "      <td>0.0</td>\n",
       "      <td>0.0</td>\n",
       "      <td>Maham Ofracculy</td>\n",
       "      <td>False</td>\n",
       "    </tr>\n",
       "    <tr>\n",
       "      <th>1</th>\n",
       "      <td>0002_01</td>\n",
       "      <td>Earth</td>\n",
       "      <td>False</td>\n",
       "      <td>F/0/S</td>\n",
       "      <td>TRAPPIST-1e</td>\n",
       "      <td>24.0</td>\n",
       "      <td>False</td>\n",
       "      <td>109.0</td>\n",
       "      <td>9.0</td>\n",
       "      <td>25.0</td>\n",
       "      <td>549.0</td>\n",
       "      <td>44.0</td>\n",
       "      <td>Juanna Vines</td>\n",
       "      <td>True</td>\n",
       "    </tr>\n",
       "    <tr>\n",
       "      <th>2</th>\n",
       "      <td>0003_01</td>\n",
       "      <td>Europa</td>\n",
       "      <td>False</td>\n",
       "      <td>A/0/S</td>\n",
       "      <td>TRAPPIST-1e</td>\n",
       "      <td>58.0</td>\n",
       "      <td>True</td>\n",
       "      <td>43.0</td>\n",
       "      <td>3576.0</td>\n",
       "      <td>0.0</td>\n",
       "      <td>6715.0</td>\n",
       "      <td>49.0</td>\n",
       "      <td>Altark Susent</td>\n",
       "      <td>False</td>\n",
       "    </tr>\n",
       "    <tr>\n",
       "      <th>3</th>\n",
       "      <td>0003_02</td>\n",
       "      <td>Europa</td>\n",
       "      <td>False</td>\n",
       "      <td>A/0/S</td>\n",
       "      <td>TRAPPIST-1e</td>\n",
       "      <td>33.0</td>\n",
       "      <td>False</td>\n",
       "      <td>0.0</td>\n",
       "      <td>1283.0</td>\n",
       "      <td>371.0</td>\n",
       "      <td>3329.0</td>\n",
       "      <td>193.0</td>\n",
       "      <td>Solam Susent</td>\n",
       "      <td>False</td>\n",
       "    </tr>\n",
       "    <tr>\n",
       "      <th>4</th>\n",
       "      <td>0004_01</td>\n",
       "      <td>Earth</td>\n",
       "      <td>False</td>\n",
       "      <td>F/1/S</td>\n",
       "      <td>TRAPPIST-1e</td>\n",
       "      <td>16.0</td>\n",
       "      <td>False</td>\n",
       "      <td>303.0</td>\n",
       "      <td>70.0</td>\n",
       "      <td>151.0</td>\n",
       "      <td>565.0</td>\n",
       "      <td>2.0</td>\n",
       "      <td>Willy Santantines</td>\n",
       "      <td>True</td>\n",
       "    </tr>\n",
       "    <tr>\n",
       "      <th>...</th>\n",
       "      <td>...</td>\n",
       "      <td>...</td>\n",
       "      <td>...</td>\n",
       "      <td>...</td>\n",
       "      <td>...</td>\n",
       "      <td>...</td>\n",
       "      <td>...</td>\n",
       "      <td>...</td>\n",
       "      <td>...</td>\n",
       "      <td>...</td>\n",
       "      <td>...</td>\n",
       "      <td>...</td>\n",
       "      <td>...</td>\n",
       "      <td>...</td>\n",
       "    </tr>\n",
       "    <tr>\n",
       "      <th>8688</th>\n",
       "      <td>9276_01</td>\n",
       "      <td>Europa</td>\n",
       "      <td>False</td>\n",
       "      <td>A/98/P</td>\n",
       "      <td>55 Cancri e</td>\n",
       "      <td>41.0</td>\n",
       "      <td>True</td>\n",
       "      <td>0.0</td>\n",
       "      <td>6819.0</td>\n",
       "      <td>0.0</td>\n",
       "      <td>1643.0</td>\n",
       "      <td>74.0</td>\n",
       "      <td>Gravior Noxnuther</td>\n",
       "      <td>False</td>\n",
       "    </tr>\n",
       "    <tr>\n",
       "      <th>8689</th>\n",
       "      <td>9278_01</td>\n",
       "      <td>Earth</td>\n",
       "      <td>True</td>\n",
       "      <td>G/1499/S</td>\n",
       "      <td>PSO J318.5-22</td>\n",
       "      <td>18.0</td>\n",
       "      <td>False</td>\n",
       "      <td>0.0</td>\n",
       "      <td>0.0</td>\n",
       "      <td>0.0</td>\n",
       "      <td>0.0</td>\n",
       "      <td>0.0</td>\n",
       "      <td>Kurta Mondalley</td>\n",
       "      <td>False</td>\n",
       "    </tr>\n",
       "    <tr>\n",
       "      <th>8690</th>\n",
       "      <td>9279_01</td>\n",
       "      <td>Earth</td>\n",
       "      <td>False</td>\n",
       "      <td>G/1500/S</td>\n",
       "      <td>TRAPPIST-1e</td>\n",
       "      <td>26.0</td>\n",
       "      <td>False</td>\n",
       "      <td>0.0</td>\n",
       "      <td>0.0</td>\n",
       "      <td>1872.0</td>\n",
       "      <td>1.0</td>\n",
       "      <td>0.0</td>\n",
       "      <td>Fayey Connon</td>\n",
       "      <td>True</td>\n",
       "    </tr>\n",
       "    <tr>\n",
       "      <th>8691</th>\n",
       "      <td>9280_01</td>\n",
       "      <td>Europa</td>\n",
       "      <td>False</td>\n",
       "      <td>E/608/S</td>\n",
       "      <td>55 Cancri e</td>\n",
       "      <td>32.0</td>\n",
       "      <td>False</td>\n",
       "      <td>0.0</td>\n",
       "      <td>1049.0</td>\n",
       "      <td>0.0</td>\n",
       "      <td>353.0</td>\n",
       "      <td>3235.0</td>\n",
       "      <td>Celeon Hontichre</td>\n",
       "      <td>False</td>\n",
       "    </tr>\n",
       "    <tr>\n",
       "      <th>8692</th>\n",
       "      <td>9280_02</td>\n",
       "      <td>Europa</td>\n",
       "      <td>False</td>\n",
       "      <td>E/608/S</td>\n",
       "      <td>TRAPPIST-1e</td>\n",
       "      <td>44.0</td>\n",
       "      <td>False</td>\n",
       "      <td>126.0</td>\n",
       "      <td>4688.0</td>\n",
       "      <td>0.0</td>\n",
       "      <td>0.0</td>\n",
       "      <td>12.0</td>\n",
       "      <td>Propsh Hontichre</td>\n",
       "      <td>True</td>\n",
       "    </tr>\n",
       "  </tbody>\n",
       "</table>\n",
       "<p>8693 rows × 14 columns</p>\n",
       "</div>"
      ],
      "text/plain": [
       "     PassengerId HomePlanet CryoSleep     Cabin    Destination   Age    VIP  \\\n",
       "0        0001_01     Europa     False     B/0/P    TRAPPIST-1e  39.0  False   \n",
       "1        0002_01      Earth     False     F/0/S    TRAPPIST-1e  24.0  False   \n",
       "2        0003_01     Europa     False     A/0/S    TRAPPIST-1e  58.0   True   \n",
       "3        0003_02     Europa     False     A/0/S    TRAPPIST-1e  33.0  False   \n",
       "4        0004_01      Earth     False     F/1/S    TRAPPIST-1e  16.0  False   \n",
       "...          ...        ...       ...       ...            ...   ...    ...   \n",
       "8688     9276_01     Europa     False    A/98/P    55 Cancri e  41.0   True   \n",
       "8689     9278_01      Earth      True  G/1499/S  PSO J318.5-22  18.0  False   \n",
       "8690     9279_01      Earth     False  G/1500/S    TRAPPIST-1e  26.0  False   \n",
       "8691     9280_01     Europa     False   E/608/S    55 Cancri e  32.0  False   \n",
       "8692     9280_02     Europa     False   E/608/S    TRAPPIST-1e  44.0  False   \n",
       "\n",
       "      RoomService  FoodCourt  ShoppingMall     Spa  VRDeck               Name  \\\n",
       "0             0.0        0.0           0.0     0.0     0.0    Maham Ofracculy   \n",
       "1           109.0        9.0          25.0   549.0    44.0       Juanna Vines   \n",
       "2            43.0     3576.0           0.0  6715.0    49.0      Altark Susent   \n",
       "3             0.0     1283.0         371.0  3329.0   193.0       Solam Susent   \n",
       "4           303.0       70.0         151.0   565.0     2.0  Willy Santantines   \n",
       "...           ...        ...           ...     ...     ...                ...   \n",
       "8688          0.0     6819.0           0.0  1643.0    74.0  Gravior Noxnuther   \n",
       "8689          0.0        0.0           0.0     0.0     0.0    Kurta Mondalley   \n",
       "8690          0.0        0.0        1872.0     1.0     0.0       Fayey Connon   \n",
       "8691          0.0     1049.0           0.0   353.0  3235.0   Celeon Hontichre   \n",
       "8692        126.0     4688.0           0.0     0.0    12.0   Propsh Hontichre   \n",
       "\n",
       "      Transported  \n",
       "0           False  \n",
       "1            True  \n",
       "2           False  \n",
       "3           False  \n",
       "4            True  \n",
       "...           ...  \n",
       "8688        False  \n",
       "8689        False  \n",
       "8690         True  \n",
       "8691        False  \n",
       "8692         True  \n",
       "\n",
       "[8693 rows x 14 columns]"
      ]
     },
     "execution_count": 4,
     "metadata": {},
     "output_type": "execute_result"
    }
   ],
   "source": [
    "df"
   ]
  },
  {
   "cell_type": "code",
   "execution_count": 5,
   "id": "9afd8071-791e-4c63-ba76-c08362427026",
   "metadata": {
    "tags": []
   },
   "outputs": [
    {
     "name": "stdout",
     "output_type": "stream",
     "text": [
      "<class 'pandas.core.frame.DataFrame'>\n",
      "RangeIndex: 8693 entries, 0 to 8692\n",
      "Data columns (total 14 columns):\n",
      " #   Column        Non-Null Count  Dtype  \n",
      "---  ------        --------------  -----  \n",
      " 0   PassengerId   8693 non-null   object \n",
      " 1   HomePlanet    8492 non-null   object \n",
      " 2   CryoSleep     8476 non-null   object \n",
      " 3   Cabin         8494 non-null   object \n",
      " 4   Destination   8511 non-null   object \n",
      " 5   Age           8514 non-null   float64\n",
      " 6   VIP           8490 non-null   object \n",
      " 7   RoomService   8512 non-null   float64\n",
      " 8   FoodCourt     8510 non-null   float64\n",
      " 9   ShoppingMall  8485 non-null   float64\n",
      " 10  Spa           8510 non-null   float64\n",
      " 11  VRDeck        8505 non-null   float64\n",
      " 12  Name          8493 non-null   object \n",
      " 13  Transported   8693 non-null   bool   \n",
      "dtypes: bool(1), float64(6), object(7)\n",
      "memory usage: 891.5+ KB\n"
     ]
    }
   ],
   "source": [
    "df.info()"
   ]
  },
  {
   "cell_type": "markdown",
   "id": "46e17ec7-3414-41a9-882d-b9b869bd593e",
   "metadata": {
    "tags": []
   },
   "source": [
    "## 2.0 EDA"
   ]
  },
  {
   "cell_type": "code",
   "execution_count": 6,
   "id": "362916b9-6364-4ded-ae7e-7a10c7e25163",
   "metadata": {
    "tags": []
   },
   "outputs": [
    {
     "data": {
      "text/html": [
       "<div>\n",
       "<style scoped>\n",
       "    .dataframe tbody tr th:only-of-type {\n",
       "        vertical-align: middle;\n",
       "    }\n",
       "\n",
       "    .dataframe tbody tr th {\n",
       "        vertical-align: top;\n",
       "    }\n",
       "\n",
       "    .dataframe thead th {\n",
       "        text-align: right;\n",
       "    }\n",
       "</style>\n",
       "<table border=\"1\" class=\"dataframe\">\n",
       "  <thead>\n",
       "    <tr style=\"text-align: right;\">\n",
       "      <th></th>\n",
       "      <th>Age</th>\n",
       "      <th>RoomService</th>\n",
       "      <th>FoodCourt</th>\n",
       "      <th>ShoppingMall</th>\n",
       "      <th>Spa</th>\n",
       "      <th>VRDeck</th>\n",
       "      <th>Transported</th>\n",
       "    </tr>\n",
       "  </thead>\n",
       "  <tbody>\n",
       "    <tr>\n",
       "      <th>Age</th>\n",
       "      <td>1.000000</td>\n",
       "      <td>0.068723</td>\n",
       "      <td>0.130421</td>\n",
       "      <td>0.033133</td>\n",
       "      <td>0.123970</td>\n",
       "      <td>0.101007</td>\n",
       "      <td>-0.075026</td>\n",
       "    </tr>\n",
       "    <tr>\n",
       "      <th>RoomService</th>\n",
       "      <td>0.068723</td>\n",
       "      <td>1.000000</td>\n",
       "      <td>-0.015889</td>\n",
       "      <td>0.054480</td>\n",
       "      <td>0.010080</td>\n",
       "      <td>-0.019581</td>\n",
       "      <td>-0.244611</td>\n",
       "    </tr>\n",
       "    <tr>\n",
       "      <th>FoodCourt</th>\n",
       "      <td>0.130421</td>\n",
       "      <td>-0.015889</td>\n",
       "      <td>1.000000</td>\n",
       "      <td>-0.014228</td>\n",
       "      <td>0.221891</td>\n",
       "      <td>0.227995</td>\n",
       "      <td>0.046566</td>\n",
       "    </tr>\n",
       "    <tr>\n",
       "      <th>ShoppingMall</th>\n",
       "      <td>0.033133</td>\n",
       "      <td>0.054480</td>\n",
       "      <td>-0.014228</td>\n",
       "      <td>1.000000</td>\n",
       "      <td>0.013879</td>\n",
       "      <td>-0.007322</td>\n",
       "      <td>0.010141</td>\n",
       "    </tr>\n",
       "    <tr>\n",
       "      <th>Spa</th>\n",
       "      <td>0.123970</td>\n",
       "      <td>0.010080</td>\n",
       "      <td>0.221891</td>\n",
       "      <td>0.013879</td>\n",
       "      <td>1.000000</td>\n",
       "      <td>0.153821</td>\n",
       "      <td>-0.221131</td>\n",
       "    </tr>\n",
       "    <tr>\n",
       "      <th>VRDeck</th>\n",
       "      <td>0.101007</td>\n",
       "      <td>-0.019581</td>\n",
       "      <td>0.227995</td>\n",
       "      <td>-0.007322</td>\n",
       "      <td>0.153821</td>\n",
       "      <td>1.000000</td>\n",
       "      <td>-0.207075</td>\n",
       "    </tr>\n",
       "    <tr>\n",
       "      <th>Transported</th>\n",
       "      <td>-0.075026</td>\n",
       "      <td>-0.244611</td>\n",
       "      <td>0.046566</td>\n",
       "      <td>0.010141</td>\n",
       "      <td>-0.221131</td>\n",
       "      <td>-0.207075</td>\n",
       "      <td>1.000000</td>\n",
       "    </tr>\n",
       "  </tbody>\n",
       "</table>\n",
       "</div>"
      ],
      "text/plain": [
       "                   Age  RoomService  FoodCourt  ShoppingMall       Spa  \\\n",
       "Age           1.000000     0.068723   0.130421      0.033133  0.123970   \n",
       "RoomService   0.068723     1.000000  -0.015889      0.054480  0.010080   \n",
       "FoodCourt     0.130421    -0.015889   1.000000     -0.014228  0.221891   \n",
       "ShoppingMall  0.033133     0.054480  -0.014228      1.000000  0.013879   \n",
       "Spa           0.123970     0.010080   0.221891      0.013879  1.000000   \n",
       "VRDeck        0.101007    -0.019581   0.227995     -0.007322  0.153821   \n",
       "Transported  -0.075026    -0.244611   0.046566      0.010141 -0.221131   \n",
       "\n",
       "                VRDeck  Transported  \n",
       "Age           0.101007    -0.075026  \n",
       "RoomService  -0.019581    -0.244611  \n",
       "FoodCourt     0.227995     0.046566  \n",
       "ShoppingMall -0.007322     0.010141  \n",
       "Spa           0.153821    -0.221131  \n",
       "VRDeck        1.000000    -0.207075  \n",
       "Transported  -0.207075     1.000000  "
      ]
     },
     "execution_count": 6,
     "metadata": {},
     "output_type": "execute_result"
    }
   ],
   "source": [
    "df.corr()"
   ]
  },
  {
   "cell_type": "code",
   "execution_count": 7,
   "id": "224c1ddb-cd7c-4357-9b56-58a03616f3cc",
   "metadata": {
    "tags": []
   },
   "outputs": [
    {
     "data": {
      "text/plain": [
       "PassengerId    8693\n",
       "HomePlanet        3\n",
       "CryoSleep         2\n",
       "Cabin          6560\n",
       "Destination       3\n",
       "VIP               2\n",
       "Name           8473\n",
       "dtype: int64"
      ]
     },
     "execution_count": 7,
     "metadata": {},
     "output_type": "execute_result"
    }
   ],
   "source": [
    "df.select_dtypes(include=['object']).nunique()"
   ]
  },
  {
   "cell_type": "code",
   "execution_count": 8,
   "id": "ec655f45-867c-42f0-b1ce-42d96e4d12c8",
   "metadata": {
    "tags": []
   },
   "outputs": [
    {
     "name": "stdout",
     "output_type": "stream",
     "text": [
      "Column 'HomePlanet' unique values:\n",
      "Europa\n",
      "Earth\n",
      "Mars\n",
      "nan\n",
      "\n",
      "\n",
      "Column 'CryoSleep' unique values:\n",
      "False\n",
      "True\n",
      "nan\n",
      "\n",
      "\n",
      "Column 'Destination' unique values:\n",
      "TRAPPIST-1e\n",
      "PSO J318.5-22\n",
      "55 Cancri e\n",
      "nan\n",
      "\n",
      "\n",
      "Column 'VIP' unique values:\n",
      "False\n",
      "True\n",
      "nan\n",
      "\n",
      "\n"
     ]
    }
   ],
   "source": [
    "object_columns = df.select_dtypes(include=['object']).columns.tolist()\n",
    "\n",
    "# Columns to exclude from showing unique values\n",
    "columns_to_exclude = ['PassengerId', 'Cabin', 'Name']\n",
    "\n",
    "for col in object_columns:\n",
    "    if col not in columns_to_exclude:\n",
    "        print(f\"Column '{col}' unique values:\")\n",
    "        unique_values = df[col].unique()\n",
    "        for value in unique_values:\n",
    "            print(value)\n",
    "        print(\"\\n\")"
   ]
  },
  {
   "cell_type": "code",
   "execution_count": 9,
   "id": "ad167f19-5e89-4549-b02d-82357e7c6ed4",
   "metadata": {
    "tags": []
   },
   "outputs": [
    {
     "data": {
      "image/png": "[encoded data removed]",
      "text/plain": [
       "<Figure size 1200x800 with 6 Axes>"
      ]
     },
     "metadata": {},
     "output_type": "display_data"
    }
   ],
   "source": [
    "import matplotlib.pyplot as plt\n",
    "import seaborn as sns\n",
    "\n",
    "# Assuming your DataFrame is named 'df'\n",
    "object_columns = df.select_dtypes(include=['object']).columns.tolist()\n",
    "\n",
    "# Columns to exclude from showing unique values\n",
    "columns_to_exclude = ['PassengerId', 'Cabin', 'Name']\n",
    "\n",
    "# Create a dictionary to store unique values for relevant columns\n",
    "unique_values_dict = {\n",
    "    col: df[col].unique() for col in object_columns if col not in columns_to_exclude\n",
    "}\n",
    "\n",
    "# Set up the number of rows and columns for subplots\n",
    "num_columns = 3\n",
    "num_rows = -(-len(unique_values_dict) // num_columns)  # Ceiling division\n",
    "\n",
    "# Set the plot style using seaborn\n",
    "sns.set(style=\"whitegrid\")\n",
    "\n",
    "# Create subplots with smaller size\n",
    "fig, axes = plt.subplots(num_rows, num_columns, figsize=(12, 8))\n",
    "fig.subplots_adjust(hspace=0.5)\n",
    "\n",
    "# Plotting unique values for each selected column\n",
    "for ax, (col, unique_values) in zip(axes.flat, unique_values_dict.items()):\n",
    "    unique_counts = df[col].value_counts()\n",
    "    sns.barplot(x=unique_counts.index, y=unique_counts.values, ax=ax)\n",
    "    ax.set_title(f\"Unique Values in Column '{col}'\")\n",
    "    ax.set_xlabel(\"Unique Value\")\n",
    "    ax.set_ylabel(\"Frequency\")\n",
    "    ax.tick_params(axis='x', rotation=45)  # Rotate x-axis labels for better visibility\n",
    "\n",
    "# Hide any unused subplots\n",
    "for ax in axes.flat[len(unique_values_dict):]:\n",
    "    ax.set_visible(False)\n",
    "\n",
    "plt.tight_layout()\n",
    "plt.show()\n"
   ]
  },
  {
   "cell_type": "markdown",
   "id": "681ab5e7-9a1a-4719-96c9-ca89b1e3f187",
   "metadata": {
    "tags": []
   },
   "source": [
    "## 3.0 preprocessing"
   ]
  },
  {
   "cell_type": "code",
   "execution_count": 10,
   "id": "d53543dd-d8ba-4226-b826-92bc84051579",
   "metadata": {
    "tags": []
   },
   "outputs": [],
   "source": [
    "#making a separate copied dataframe\n",
    "df_copy = df.copy()"
   ]
  },
  {
   "cell_type": "code",
   "execution_count": 11,
   "id": "fdfb15b7-892e-455a-8da2-b4ae45430494",
   "metadata": {
    "tags": []
   },
   "outputs": [],
   "source": [
    "from sklearn.impute import SimpleImputer   "
   ]
  },
  {
   "cell_type": "code",
   "execution_count": 12,
   "id": "b48158de-20a1-4ee8-8239-44d4f4f08ba4",
   "metadata": {
    "tags": []
   },
   "outputs": [],
   "source": [
    "# Creating a SimpleImputer object with the strategy set to 'mean'\n",
    "imputer = SimpleImputer(strategy='mean')"
   ]
  },
  {
   "cell_type": "code",
   "execution_count": 13,
   "id": "eda88c2e-5e80-40a3-b92f-b6cad60a323e",
   "metadata": {
    "tags": []
   },
   "outputs": [],
   "source": [
    "import numpy as np\n",
    "# Identifying columns with numeric data in the input features\n",
    "numeric_cols = df_copy.select_dtypes(include=[np.number]).columns.tolist()\n",
    "\n",
    "# Identifying columns with categorical data in the input features\n",
    "categorical_cols = df_copy.select_dtypes(include='object').columns.tolist()"
   ]
  },
  {
   "cell_type": "code",
   "execution_count": 14,
   "id": "7ea8ca7b-de5c-4b4a-a44b-d9aa12da4f6e",
   "metadata": {
    "tags": []
   },
   "outputs": [
    {
     "data": {
      "text/plain": [
       "Age             179\n",
       "RoomService     181\n",
       "FoodCourt       183\n",
       "ShoppingMall    208\n",
       "Spa             183\n",
       "VRDeck          188\n",
       "dtype: int64"
      ]
     },
     "execution_count": 14,
     "metadata": {},
     "output_type": "execute_result"
    }
   ],
   "source": [
    "df_copy[numeric_cols].isna().sum()"
   ]
  },
  {
   "cell_type": "code",
   "execution_count": 15,
   "id": "c36d084d-1896-46bf-ad8f-fc5a9b07177e",
   "metadata": {
    "tags": []
   },
   "outputs": [
    {
     "data": {
      "text/plain": [
       "PassengerId      0\n",
       "HomePlanet     201\n",
       "CryoSleep      217\n",
       "Cabin          199\n",
       "Destination    182\n",
       "VIP            203\n",
       "Name           200\n",
       "dtype: int64"
      ]
     },
     "execution_count": 15,
     "metadata": {},
     "output_type": "execute_result"
    }
   ],
   "source": [
    "df_copy[categorical_cols].isna().sum()"
   ]
  },
  {
   "cell_type": "markdown",
   "id": "cfcd87cb-f62e-4694-9bc9-5a08545a34d8",
   "metadata": {
    "tags": []
   },
   "source": [
    "### 3.1 Numerical"
   ]
  },
  {
   "cell_type": "code",
   "execution_count": 16,
   "id": "ad401396-ed23-4a75-b1c0-e9f57e2c19ba",
   "metadata": {
    "tags": []
   },
   "outputs": [
    {
     "data": {
      "text/html": [
       "<style>#sk-container-id-1 {color: black;background-color: white;}#sk-container-id-1 pre{padding: 0;}#sk-container-id-1 div.sk-toggleable {background-color: white;}#sk-container-id-1 label.sk-toggleable__label {cursor: pointer;display: block;width: 100%;margin-bottom: 0;padding: 0.3em;box-sizing: border-box;text-align: center;}#sk-container-id-1 label.sk-toggleable__label-arrow:before {content: \"▸\";float: left;margin-right: 0.25em;color: #696969;}#sk-container-id-1 label.sk-toggleable__label-arrow:hover:before {color: black;}#sk-container-id-1 div.sk-estimator:hover label.sk-toggleable__label-arrow:before {color: black;}#sk-container-id-1 div.sk-toggleable__content {max-height: 0;max-width: 0;overflow: hidden;text-align: left;background-color: #f0f8ff;}#sk-container-id-1 div.sk-toggleable__content pre {margin: 0.2em;color: black;border-radius: 0.25em;background-color: #f0f8ff;}#sk-container-id-1 input.sk-toggleable__control:checked~div.sk-toggleable__content {max-height: 200px;max-width: 100%;overflow: auto;}#sk-container-id-1 input.sk-toggleable__control:checked~label.sk-toggleable__label-arrow:before {content: \"▾\";}#sk-container-id-1 div.sk-estimator input.sk-toggleable__control:checked~label.sk-toggleable__label {background-color: #d4ebff;}#sk-container-id-1 div.sk-label input.sk-toggleable__control:checked~label.sk-toggleable__label {background-color: #d4ebff;}#sk-container-id-1 input.sk-hidden--visually {border: 0;clip: rect(1px 1px 1px 1px);clip: rect(1px, 1px, 1px, 1px);height: 1px;margin: -1px;overflow: hidden;padding: 0;position: absolute;width: 1px;}#sk-container-id-1 div.sk-estimator {font-family: monospace;background-color: #f0f8ff;border: 1px dotted black;border-radius: 0.25em;box-sizing: border-box;margin-bottom: 0.5em;}#sk-container-id-1 div.sk-estimator:hover {background-color: #d4ebff;}#sk-container-id-1 div.sk-parallel-item::after {content: \"\";width: 100%;border-bottom: 1px solid gray;flex-grow: 1;}#sk-container-id-1 div.sk-label:hover label.sk-toggleable__label {background-color: #d4ebff;}#sk-container-id-1 div.sk-serial::before {content: \"\";position: absolute;border-left: 1px solid gray;box-sizing: border-box;top: 0;bottom: 0;left: 50%;z-index: 0;}#sk-container-id-1 div.sk-serial {display: flex;flex-direction: column;align-items: center;background-color: white;padding-right: 0.2em;padding-left: 0.2em;position: relative;}#sk-container-id-1 div.sk-item {position: relative;z-index: 1;}#sk-container-id-1 div.sk-parallel {display: flex;align-items: stretch;justify-content: center;background-color: white;position: relative;}#sk-container-id-1 div.sk-item::before, #sk-container-id-1 div.sk-parallel-item::before {content: \"\";position: absolute;border-left: 1px solid gray;box-sizing: border-box;top: 0;bottom: 0;left: 50%;z-index: -1;}#sk-container-id-1 div.sk-parallel-item {display: flex;flex-direction: column;z-index: 1;position: relative;background-color: white;}#sk-container-id-1 div.sk-parallel-item:first-child::after {align-self: flex-end;width: 50%;}#sk-container-id-1 div.sk-parallel-item:last-child::after {align-self: flex-start;width: 50%;}#sk-container-id-1 div.sk-parallel-item:only-child::after {width: 0;}#sk-container-id-1 div.sk-dashed-wrapped {border: 1px dashed gray;margin: 0 0.4em 0.5em 0.4em;box-sizing: border-box;padding-bottom: 0.4em;background-color: white;}#sk-container-id-1 div.sk-label label {font-family: monospace;font-weight: bold;display: inline-block;line-height: 1.2em;}#sk-container-id-1 div.sk-label-container {text-align: center;}#sk-container-id-1 div.sk-container {/* jupyter's `normalize.less` sets `[hidden] { display: none; }` but bootstrap.min.css set `[hidden] { display: none !important; }` so we also need the `!important` here to be able to override the default hidden behavior on the sphinx rendered scikit-learn.org. See: https://github.com/scikit-learn/scikit-learn/issues/21755 */display: inline-block !important;position: relative;}#sk-container-id-1 div.sk-text-repr-fallback {display: none;}</style><div id=\"sk-container-id-1\" class=\"sk-top-container\"><div class=\"sk-text-repr-fallback\"><pre>SimpleImputer()</pre><b>In a Jupyter environment, please rerun this cell to show the HTML representation or trust the notebook. <br />On GitHub, the HTML representation is unable to render, please try loading this page with nbviewer.org.</b></div><div class=\"sk-container\" hidden><div class=\"sk-item\"><div class=\"sk-estimator sk-toggleable\"><input class=\"sk-toggleable__control sk-hidden--visually\" id=\"sk-estimator-id-1\" type=\"checkbox\" checked><label for=\"sk-estimator-id-1\" class=\"sk-toggleable__label sk-toggleable__label-arrow\">SimpleImputer</label><div class=\"sk-toggleable__content\"><pre>SimpleImputer()</pre></div></div></div></div></div>"
      ],
      "text/plain": [
       "SimpleImputer()"
      ]
     },
     "execution_count": 16,
     "metadata": {},
     "output_type": "execute_result"
    }
   ],
   "source": [
    "# Fitting the imputer on the numeric columns of the training inputs\n",
    "imputer.fit(df_copy[numeric_cols])"
   ]
  },
  {
   "cell_type": "code",
   "execution_count": 17,
   "id": "f36e772f-d13f-4faa-bbb2-c442ee45b65a",
   "metadata": {
    "tags": []
   },
   "outputs": [],
   "source": [
    "# Transforming the missing values in the numeric columns of the training inputs using the imputer\n",
    "df_copy[numeric_cols] = imputer.transform(df_copy[numeric_cols])"
   ]
  },
  {
   "cell_type": "code",
   "execution_count": 18,
   "id": "b6974d0f-ea0a-4451-9024-7a6b4e20db71",
   "metadata": {
    "tags": []
   },
   "outputs": [
    {
     "data": {
      "text/plain": [
       "Age             0\n",
       "RoomService     0\n",
       "FoodCourt       0\n",
       "ShoppingMall    0\n",
       "Spa             0\n",
       "VRDeck          0\n",
       "dtype: int64"
      ]
     },
     "execution_count": 18,
     "metadata": {},
     "output_type": "execute_result"
    }
   ],
   "source": [
    "df_copy[numeric_cols].isna().sum()"
   ]
  },
  {
   "cell_type": "markdown",
   "id": "b5c3bc99-dbdc-42c4-adf1-917933bff71e",
   "metadata": {
    "tags": []
   },
   "source": [
    "### 3.2 test data numerical"
   ]
  },
  {
   "cell_type": "code",
   "execution_count": 19,
   "id": "3061d654-aeef-4d34-a899-bda45d6d9c27",
   "metadata": {
    "tags": []
   },
   "outputs": [
    {
     "data": {
      "text/plain": [
       "Age             0\n",
       "RoomService     0\n",
       "FoodCourt       0\n",
       "ShoppingMall    0\n",
       "Spa             0\n",
       "VRDeck          0\n",
       "dtype: int64"
      ]
     },
     "execution_count": 19,
     "metadata": {},
     "output_type": "execute_result"
    }
   ],
   "source": [
    "# Fitting the imputer on the numeric columns of the training inputs\n",
    "imputer.fit(df_test[numeric_cols])\n",
    "# Transforming the missing values in the numeric columns of the training inputs using the imputer\n",
    "df_test[numeric_cols] = imputer.transform(df_test[numeric_cols])\n",
    "df_test[numeric_cols].isna().sum()"
   ]
  },
  {
   "cell_type": "markdown",
   "id": "cde508ba-35ac-463d-a62f-dabbae6d4e8f",
   "metadata": {
    "tags": []
   },
   "source": [
    "### 3.3 Categorical"
   ]
  },
  {
   "cell_type": "code",
   "execution_count": 20,
   "id": "723ba590-eebf-49e2-8c71-4359cf4bd0cf",
   "metadata": {
    "tags": []
   },
   "outputs": [],
   "source": [
    "# Columns to remove\n",
    "columns_to_remove = ['PassengerId', 'Cabin', 'Name']\n",
    "\n",
    "# Remove the specified columns from the list\n",
    "for col in columns_to_remove:\n",
    "    categorical_cols.remove(col)"
   ]
  },
  {
   "cell_type": "code",
   "execution_count": 21,
   "id": "32ecca93-dda8-4a13-be26-804cdcbc57e0",
   "metadata": {
    "tags": []
   },
   "outputs": [
    {
     "data": {
      "text/plain": [
       "['HomePlanet', 'CryoSleep', 'Destination', 'VIP']"
      ]
     },
     "execution_count": 21,
     "metadata": {},
     "output_type": "execute_result"
    }
   ],
   "source": [
    "categorical_cols"
   ]
  },
  {
   "cell_type": "code",
   "execution_count": 22,
   "id": "cedf22d7-7197-47cd-b322-33694a4595c8",
   "metadata": {},
   "outputs": [
    {
     "name": "stdout",
     "output_type": "stream",
     "text": [
      "     HomePlanet  CryoSleep    Destination    VIP\n",
      "0        Europa      False    TRAPPIST-1e  False\n",
      "1         Earth      False    TRAPPIST-1e  False\n",
      "2        Europa      False    TRAPPIST-1e   True\n",
      "3        Europa      False    TRAPPIST-1e  False\n",
      "4         Earth      False    TRAPPIST-1e  False\n",
      "...         ...        ...            ...    ...\n",
      "8688     Europa      False    55 Cancri e   True\n",
      "8689      Earth       True  PSO J318.5-22  False\n",
      "8690      Earth      False    TRAPPIST-1e  False\n",
      "8691     Europa      False    55 Cancri e  False\n",
      "8692     Europa      False    TRAPPIST-1e  False\n",
      "\n",
      "[8693 rows x 4 columns]\n"
     ]
    }
   ],
   "source": [
    "# Filling missing categorical values with mode (most frequent value) of each column\n",
    "for column in df_copy[categorical_cols].columns:\n",
    "    if df_copy[column].dtype == 'object':  # Check if column is categorical\n",
    "        mode_value = df_copy[column].mode()[0]  # Calculate mode\n",
    "        df_copy[column].fillna(mode_value, inplace=True)  # Fill missing values with mode\n",
    "\n",
    "print(df_copy[categorical_cols])"
   ]
  },
  {
   "cell_type": "code",
   "execution_count": 23,
   "id": "095263b7-4d79-4e77-a1d3-91a19d0dfabe",
   "metadata": {
    "tags": []
   },
   "outputs": [
    {
     "data": {
      "text/plain": [
       "HomePlanet     0\n",
       "CryoSleep      0\n",
       "Destination    0\n",
       "VIP            0\n",
       "dtype: int64"
      ]
     },
     "execution_count": 23,
     "metadata": {},
     "output_type": "execute_result"
    }
   ],
   "source": [
    "df_copy[categorical_cols].isna().sum()"
   ]
  },
  {
   "cell_type": "markdown",
   "id": "8a336a80-8e84-44d2-a892-ddef149e57e1",
   "metadata": {
    "tags": []
   },
   "source": [
    "#### 3.3.1 onehot encoder"
   ]
  },
  {
   "cell_type": "code",
   "execution_count": 24,
   "id": "10c3d363-5cb2-4593-aa90-8773cb5b7c30",
   "metadata": {
    "tags": []
   },
   "outputs": [],
   "source": [
    "from sklearn.preprocessing import OneHotEncoder"
   ]
  },
  {
   "cell_type": "code",
   "execution_count": 25,
   "id": "02b6d334-f608-4812-b11a-39b2b727c54a",
   "metadata": {
    "tags": []
   },
   "outputs": [],
   "source": [
    "# Initialize the OneHotEncoder\n",
    "encoder = OneHotEncoder(drop='first', sparse=False)\n",
    "\n",
    "# Fit and transform the encoder on the selected columns\n",
    "encoded_cols = encoder.fit_transform(df_copy[categorical_cols])"
   ]
  },
  {
   "cell_type": "code",
   "execution_count": 26,
   "id": "75e275f9-6f70-403b-8bd6-7f69c9a0035b",
   "metadata": {
    "tags": []
   },
   "outputs": [
    {
     "data": {
      "text/plain": [
       "array(['HomePlanet_Europa', 'HomePlanet_Mars', 'CryoSleep_True',\n",
       "       'Destination_PSO J318.5-22', 'Destination_TRAPPIST-1e', 'VIP_True'],\n",
       "      dtype=object)"
      ]
     },
     "execution_count": 26,
     "metadata": {},
     "output_type": "execute_result"
    }
   ],
   "source": [
    "# Get the feature names after one-hot encoding\n",
    "feature_names = encoder.get_feature_names_out(categorical_cols)\n",
    "feature_names"
   ]
  },
  {
   "cell_type": "code",
   "execution_count": 27,
   "id": "dfa19352-1189-4d24-af1d-916d091648f1",
   "metadata": {
    "tags": []
   },
   "outputs": [],
   "source": [
    "# Create a DataFrame from the encoded columns with proper column names\n",
    "encoded_df = pd.DataFrame(encoded_cols, columns=feature_names)\n",
    "\n",
    "# Concatenate the encoded DataFrame with the original DataFrame\n",
    "df_encoded = pd.concat([df_copy.drop(columns=categorical_cols), encoded_df], axis=1)"
   ]
  },
  {
   "cell_type": "code",
   "execution_count": 28,
   "id": "73dd6473-ea1c-4f62-95e3-bb1a6ddc3a2b",
   "metadata": {
    "tags": []
   },
   "outputs": [
    {
     "data": {
      "text/html": [
       "<div>\n",
       "<style scoped>\n",
       "    .dataframe tbody tr th:only-of-type {\n",
       "        vertical-align: middle;\n",
       "    }\n",
       "\n",
       "    .dataframe tbody tr th {\n",
       "        vertical-align: top;\n",
       "    }\n",
       "\n",
       "    .dataframe thead th {\n",
       "        text-align: right;\n",
       "    }\n",
       "</style>\n",
       "<table border=\"1\" class=\"dataframe\">\n",
       "  <thead>\n",
       "    <tr style=\"text-align: right;\">\n",
       "      <th></th>\n",
       "      <th>PassengerId</th>\n",
       "      <th>Cabin</th>\n",
       "      <th>Age</th>\n",
       "      <th>RoomService</th>\n",
       "      <th>FoodCourt</th>\n",
       "      <th>ShoppingMall</th>\n",
       "      <th>Spa</th>\n",
       "      <th>VRDeck</th>\n",
       "      <th>Name</th>\n",
       "      <th>Transported</th>\n",
       "      <th>HomePlanet_Europa</th>\n",
       "      <th>HomePlanet_Mars</th>\n",
       "      <th>CryoSleep_True</th>\n",
       "      <th>Destination_PSO J318.5-22</th>\n",
       "      <th>Destination_TRAPPIST-1e</th>\n",
       "      <th>VIP_True</th>\n",
       "    </tr>\n",
       "  </thead>\n",
       "  <tbody>\n",
       "    <tr>\n",
       "      <th>0</th>\n",
       "      <td>0001_01</td>\n",
       "      <td>B/0/P</td>\n",
       "      <td>39.0</td>\n",
       "      <td>0.0</td>\n",
       "      <td>0.0</td>\n",
       "      <td>0.0</td>\n",
       "      <td>0.0</td>\n",
       "      <td>0.0</td>\n",
       "      <td>Maham Ofracculy</td>\n",
       "      <td>False</td>\n",
       "      <td>1.0</td>\n",
       "      <td>0.0</td>\n",
       "      <td>0.0</td>\n",
       "      <td>0.0</td>\n",
       "      <td>1.0</td>\n",
       "      <td>0.0</td>\n",
       "    </tr>\n",
       "    <tr>\n",
       "      <th>1</th>\n",
       "      <td>0002_01</td>\n",
       "      <td>F/0/S</td>\n",
       "      <td>24.0</td>\n",
       "      <td>109.0</td>\n",
       "      <td>9.0</td>\n",
       "      <td>25.0</td>\n",
       "      <td>549.0</td>\n",
       "      <td>44.0</td>\n",
       "      <td>Juanna Vines</td>\n",
       "      <td>True</td>\n",
       "      <td>0.0</td>\n",
       "      <td>0.0</td>\n",
       "      <td>0.0</td>\n",
       "      <td>0.0</td>\n",
       "      <td>1.0</td>\n",
       "      <td>0.0</td>\n",
       "    </tr>\n",
       "    <tr>\n",
       "      <th>2</th>\n",
       "      <td>0003_01</td>\n",
       "      <td>A/0/S</td>\n",
       "      <td>58.0</td>\n",
       "      <td>43.0</td>\n",
       "      <td>3576.0</td>\n",
       "      <td>0.0</td>\n",
       "      <td>6715.0</td>\n",
       "      <td>49.0</td>\n",
       "      <td>Altark Susent</td>\n",
       "      <td>False</td>\n",
       "      <td>1.0</td>\n",
       "      <td>0.0</td>\n",
       "      <td>0.0</td>\n",
       "      <td>0.0</td>\n",
       "      <td>1.0</td>\n",
       "      <td>1.0</td>\n",
       "    </tr>\n",
       "    <tr>\n",
       "      <th>3</th>\n",
       "      <td>0003_02</td>\n",
       "      <td>A/0/S</td>\n",
       "      <td>33.0</td>\n",
       "      <td>0.0</td>\n",
       "      <td>1283.0</td>\n",
       "      <td>371.0</td>\n",
       "      <td>3329.0</td>\n",
       "      <td>193.0</td>\n",
       "      <td>Solam Susent</td>\n",
       "      <td>False</td>\n",
       "      <td>1.0</td>\n",
       "      <td>0.0</td>\n",
       "      <td>0.0</td>\n",
       "      <td>0.0</td>\n",
       "      <td>1.0</td>\n",
       "      <td>0.0</td>\n",
       "    </tr>\n",
       "    <tr>\n",
       "      <th>4</th>\n",
       "      <td>0004_01</td>\n",
       "      <td>F/1/S</td>\n",
       "      <td>16.0</td>\n",
       "      <td>303.0</td>\n",
       "      <td>70.0</td>\n",
       "      <td>151.0</td>\n",
       "      <td>565.0</td>\n",
       "      <td>2.0</td>\n",
       "      <td>Willy Santantines</td>\n",
       "      <td>True</td>\n",
       "      <td>0.0</td>\n",
       "      <td>0.0</td>\n",
       "      <td>0.0</td>\n",
       "      <td>0.0</td>\n",
       "      <td>1.0</td>\n",
       "      <td>0.0</td>\n",
       "    </tr>\n",
       "  </tbody>\n",
       "</table>\n",
       "</div>"
      ],
      "text/plain": [
       "  PassengerId  Cabin   Age  RoomService  FoodCourt  ShoppingMall     Spa  \\\n",
       "0     0001_01  B/0/P  39.0          0.0        0.0           0.0     0.0   \n",
       "1     0002_01  F/0/S  24.0        109.0        9.0          25.0   549.0   \n",
       "2     0003_01  A/0/S  58.0         43.0     3576.0           0.0  6715.0   \n",
       "3     0003_02  A/0/S  33.0          0.0     1283.0         371.0  3329.0   \n",
       "4     0004_01  F/1/S  16.0        303.0       70.0         151.0   565.0   \n",
       "\n",
       "   VRDeck               Name  Transported  HomePlanet_Europa  HomePlanet_Mars  \\\n",
       "0     0.0    Maham Ofracculy        False                1.0              0.0   \n",
       "1    44.0       Juanna Vines         True                0.0              0.0   \n",
       "2    49.0      Altark Susent        False                1.0              0.0   \n",
       "3   193.0       Solam Susent        False                1.0              0.0   \n",
       "4     2.0  Willy Santantines         True                0.0              0.0   \n",
       "\n",
       "   CryoSleep_True  Destination_PSO J318.5-22  Destination_TRAPPIST-1e  \\\n",
       "0             0.0                        0.0                      1.0   \n",
       "1             0.0                        0.0                      1.0   \n",
       "2             0.0                        0.0                      1.0   \n",
       "3             0.0                        0.0                      1.0   \n",
       "4             0.0                        0.0                      1.0   \n",
       "\n",
       "   VIP_True  \n",
       "0       0.0  \n",
       "1       0.0  \n",
       "2       1.0  \n",
       "3       0.0  \n",
       "4       0.0  "
      ]
     },
     "execution_count": 28,
     "metadata": {},
     "output_type": "execute_result"
    }
   ],
   "source": [
    "df_encoded.head(5)"
   ]
  },
  {
   "cell_type": "code",
   "execution_count": 29,
   "id": "88c5729c-4084-4bf6-b0d2-05c9839d14e8",
   "metadata": {
    "tags": []
   },
   "outputs": [],
   "source": [
    "# Specify columns to remove\n",
    "columns_to_remove = ['PassengerId', 'Cabin', 'Name']\n",
    "\n",
    "# Drop the specified columns\n",
    "df_encoded = df_encoded.drop(columns=columns_to_remove)\n"
   ]
  },
  {
   "cell_type": "code",
   "execution_count": 30,
   "id": "0ef56c3a-11a7-44cc-8d72-436b99848080",
   "metadata": {
    "tags": []
   },
   "outputs": [
    {
     "data": {
      "text/html": [
       "<div>\n",
       "<style scoped>\n",
       "    .dataframe tbody tr th:only-of-type {\n",
       "        vertical-align: middle;\n",
       "    }\n",
       "\n",
       "    .dataframe tbody tr th {\n",
       "        vertical-align: top;\n",
       "    }\n",
       "\n",
       "    .dataframe thead th {\n",
       "        text-align: right;\n",
       "    }\n",
       "</style>\n",
       "<table border=\"1\" class=\"dataframe\">\n",
       "  <thead>\n",
       "    <tr style=\"text-align: right;\">\n",
       "      <th></th>\n",
       "      <th>Age</th>\n",
       "      <th>RoomService</th>\n",
       "      <th>FoodCourt</th>\n",
       "      <th>ShoppingMall</th>\n",
       "      <th>Spa</th>\n",
       "      <th>VRDeck</th>\n",
       "      <th>Transported</th>\n",
       "      <th>HomePlanet_Europa</th>\n",
       "      <th>HomePlanet_Mars</th>\n",
       "      <th>CryoSleep_True</th>\n",
       "      <th>Destination_PSO J318.5-22</th>\n",
       "      <th>Destination_TRAPPIST-1e</th>\n",
       "      <th>VIP_True</th>\n",
       "    </tr>\n",
       "  </thead>\n",
       "  <tbody>\n",
       "    <tr>\n",
       "      <th>0</th>\n",
       "      <td>39.0</td>\n",
       "      <td>0.0</td>\n",
       "      <td>0.0</td>\n",
       "      <td>0.0</td>\n",
       "      <td>0.0</td>\n",
       "      <td>0.0</td>\n",
       "      <td>False</td>\n",
       "      <td>1.0</td>\n",
       "      <td>0.0</td>\n",
       "      <td>0.0</td>\n",
       "      <td>0.0</td>\n",
       "      <td>1.0</td>\n",
       "      <td>0.0</td>\n",
       "    </tr>\n",
       "    <tr>\n",
       "      <th>1</th>\n",
       "      <td>24.0</td>\n",
       "      <td>109.0</td>\n",
       "      <td>9.0</td>\n",
       "      <td>25.0</td>\n",
       "      <td>549.0</td>\n",
       "      <td>44.0</td>\n",
       "      <td>True</td>\n",
       "      <td>0.0</td>\n",
       "      <td>0.0</td>\n",
       "      <td>0.0</td>\n",
       "      <td>0.0</td>\n",
       "      <td>1.0</td>\n",
       "      <td>0.0</td>\n",
       "    </tr>\n",
       "    <tr>\n",
       "      <th>2</th>\n",
       "      <td>58.0</td>\n",
       "      <td>43.0</td>\n",
       "      <td>3576.0</td>\n",
       "      <td>0.0</td>\n",
       "      <td>6715.0</td>\n",
       "      <td>49.0</td>\n",
       "      <td>False</td>\n",
       "      <td>1.0</td>\n",
       "      <td>0.0</td>\n",
       "      <td>0.0</td>\n",
       "      <td>0.0</td>\n",
       "      <td>1.0</td>\n",
       "      <td>1.0</td>\n",
       "    </tr>\n",
       "    <tr>\n",
       "      <th>3</th>\n",
       "      <td>33.0</td>\n",
       "      <td>0.0</td>\n",
       "      <td>1283.0</td>\n",
       "      <td>371.0</td>\n",
       "      <td>3329.0</td>\n",
       "      <td>193.0</td>\n",
       "      <td>False</td>\n",
       "      <td>1.0</td>\n",
       "      <td>0.0</td>\n",
       "      <td>0.0</td>\n",
       "      <td>0.0</td>\n",
       "      <td>1.0</td>\n",
       "      <td>0.0</td>\n",
       "    </tr>\n",
       "    <tr>\n",
       "      <th>4</th>\n",
       "      <td>16.0</td>\n",
       "      <td>303.0</td>\n",
       "      <td>70.0</td>\n",
       "      <td>151.0</td>\n",
       "      <td>565.0</td>\n",
       "      <td>2.0</td>\n",
       "      <td>True</td>\n",
       "      <td>0.0</td>\n",
       "      <td>0.0</td>\n",
       "      <td>0.0</td>\n",
       "      <td>0.0</td>\n",
       "      <td>1.0</td>\n",
       "      <td>0.0</td>\n",
       "    </tr>\n",
       "  </tbody>\n",
       "</table>\n",
       "</div>"
      ],
      "text/plain": [
       "    Age  RoomService  FoodCourt  ShoppingMall     Spa  VRDeck  Transported  \\\n",
       "0  39.0          0.0        0.0           0.0     0.0     0.0        False   \n",
       "1  24.0        109.0        9.0          25.0   549.0    44.0         True   \n",
       "2  58.0         43.0     3576.0           0.0  6715.0    49.0        False   \n",
       "3  33.0          0.0     1283.0         371.0  3329.0   193.0        False   \n",
       "4  16.0        303.0       70.0         151.0   565.0     2.0         True   \n",
       "\n",
       "   HomePlanet_Europa  HomePlanet_Mars  CryoSleep_True  \\\n",
       "0                1.0              0.0             0.0   \n",
       "1                0.0              0.0             0.0   \n",
       "2                1.0              0.0             0.0   \n",
       "3                1.0              0.0             0.0   \n",
       "4                0.0              0.0             0.0   \n",
       "\n",
       "   Destination_PSO J318.5-22  Destination_TRAPPIST-1e  VIP_True  \n",
       "0                        0.0                      1.0       0.0  \n",
       "1                        0.0                      1.0       0.0  \n",
       "2                        0.0                      1.0       1.0  \n",
       "3                        0.0                      1.0       0.0  \n",
       "4                        0.0                      1.0       0.0  "
      ]
     },
     "execution_count": 30,
     "metadata": {},
     "output_type": "execute_result"
    }
   ],
   "source": [
    "df_encoded.head(5)"
   ]
  },
  {
   "cell_type": "code",
   "execution_count": 31,
   "id": "a446b1bf-27c9-4b9d-8c6b-dd35596158bb",
   "metadata": {
    "tags": []
   },
   "outputs": [],
   "source": [
    "# Convert True to 1 and False to 0 in the 'Transported' column\n",
    "df_encoded['Transported'] = df_encoded['Transported'].astype(int)"
   ]
  },
  {
   "cell_type": "code",
   "execution_count": 32,
   "id": "81330278-23c3-42bc-a553-ac60495c74bb",
   "metadata": {
    "tags": []
   },
   "outputs": [
    {
     "data": {
      "text/plain": [
       "Age                          0\n",
       "RoomService                  0\n",
       "FoodCourt                    0\n",
       "ShoppingMall                 0\n",
       "Spa                          0\n",
       "VRDeck                       0\n",
       "Transported                  0\n",
       "HomePlanet_Europa            0\n",
       "HomePlanet_Mars              0\n",
       "CryoSleep_True               0\n",
       "Destination_PSO J318.5-22    0\n",
       "Destination_TRAPPIST-1e      0\n",
       "VIP_True                     0\n",
       "dtype: int64"
      ]
     },
     "execution_count": 32,
     "metadata": {},
     "output_type": "execute_result"
    }
   ],
   "source": [
    "df_encoded.isna().sum()"
   ]
  },
  {
   "cell_type": "markdown",
   "id": "3f11a317-cc26-4fa4-8086-fe3c07880d5e",
   "metadata": {
    "tags": []
   },
   "source": [
    "### 3.4 Test data Categorical"
   ]
  },
  {
   "cell_type": "code",
   "execution_count": 33,
   "id": "8d912a55-3904-454d-8343-d7d31448ae55",
   "metadata": {
    "tags": []
   },
   "outputs": [
    {
     "data": {
      "text/html": [
       "<div>\n",
       "<style scoped>\n",
       "    .dataframe tbody tr th:only-of-type {\n",
       "        vertical-align: middle;\n",
       "    }\n",
       "\n",
       "    .dataframe tbody tr th {\n",
       "        vertical-align: top;\n",
       "    }\n",
       "\n",
       "    .dataframe thead th {\n",
       "        text-align: right;\n",
       "    }\n",
       "</style>\n",
       "<table border=\"1\" class=\"dataframe\">\n",
       "  <thead>\n",
       "    <tr style=\"text-align: right;\">\n",
       "      <th></th>\n",
       "      <th>PassengerId</th>\n",
       "      <th>Cabin</th>\n",
       "      <th>Age</th>\n",
       "      <th>RoomService</th>\n",
       "      <th>FoodCourt</th>\n",
       "      <th>ShoppingMall</th>\n",
       "      <th>Spa</th>\n",
       "      <th>VRDeck</th>\n",
       "      <th>Name</th>\n",
       "      <th>HomePlanet_Europa</th>\n",
       "      <th>HomePlanet_Mars</th>\n",
       "      <th>CryoSleep_True</th>\n",
       "      <th>Destination_PSO J318.5-22</th>\n",
       "      <th>Destination_TRAPPIST-1e</th>\n",
       "      <th>VIP_True</th>\n",
       "    </tr>\n",
       "  </thead>\n",
       "  <tbody>\n",
       "    <tr>\n",
       "      <th>0</th>\n",
       "      <td>0013_01</td>\n",
       "      <td>G/3/S</td>\n",
       "      <td>27.0</td>\n",
       "      <td>0.0</td>\n",
       "      <td>0.0</td>\n",
       "      <td>0.0</td>\n",
       "      <td>0.0</td>\n",
       "      <td>0.0</td>\n",
       "      <td>Nelly Carsoning</td>\n",
       "      <td>0.0</td>\n",
       "      <td>0.0</td>\n",
       "      <td>1.0</td>\n",
       "      <td>0.0</td>\n",
       "      <td>1.0</td>\n",
       "      <td>0.0</td>\n",
       "    </tr>\n",
       "    <tr>\n",
       "      <th>1</th>\n",
       "      <td>0018_01</td>\n",
       "      <td>F/4/S</td>\n",
       "      <td>19.0</td>\n",
       "      <td>0.0</td>\n",
       "      <td>9.0</td>\n",
       "      <td>0.0</td>\n",
       "      <td>2823.0</td>\n",
       "      <td>0.0</td>\n",
       "      <td>Lerome Peckers</td>\n",
       "      <td>0.0</td>\n",
       "      <td>0.0</td>\n",
       "      <td>0.0</td>\n",
       "      <td>0.0</td>\n",
       "      <td>1.0</td>\n",
       "      <td>0.0</td>\n",
       "    </tr>\n",
       "    <tr>\n",
       "      <th>2</th>\n",
       "      <td>0019_01</td>\n",
       "      <td>C/0/S</td>\n",
       "      <td>31.0</td>\n",
       "      <td>0.0</td>\n",
       "      <td>0.0</td>\n",
       "      <td>0.0</td>\n",
       "      <td>0.0</td>\n",
       "      <td>0.0</td>\n",
       "      <td>Sabih Unhearfus</td>\n",
       "      <td>1.0</td>\n",
       "      <td>0.0</td>\n",
       "      <td>1.0</td>\n",
       "      <td>0.0</td>\n",
       "      <td>0.0</td>\n",
       "      <td>0.0</td>\n",
       "    </tr>\n",
       "    <tr>\n",
       "      <th>3</th>\n",
       "      <td>0021_01</td>\n",
       "      <td>C/1/S</td>\n",
       "      <td>38.0</td>\n",
       "      <td>0.0</td>\n",
       "      <td>6652.0</td>\n",
       "      <td>0.0</td>\n",
       "      <td>181.0</td>\n",
       "      <td>585.0</td>\n",
       "      <td>Meratz Caltilter</td>\n",
       "      <td>1.0</td>\n",
       "      <td>0.0</td>\n",
       "      <td>0.0</td>\n",
       "      <td>0.0</td>\n",
       "      <td>1.0</td>\n",
       "      <td>0.0</td>\n",
       "    </tr>\n",
       "    <tr>\n",
       "      <th>4</th>\n",
       "      <td>0023_01</td>\n",
       "      <td>F/5/S</td>\n",
       "      <td>20.0</td>\n",
       "      <td>10.0</td>\n",
       "      <td>0.0</td>\n",
       "      <td>635.0</td>\n",
       "      <td>0.0</td>\n",
       "      <td>0.0</td>\n",
       "      <td>Brence Harperez</td>\n",
       "      <td>0.0</td>\n",
       "      <td>0.0</td>\n",
       "      <td>0.0</td>\n",
       "      <td>0.0</td>\n",
       "      <td>1.0</td>\n",
       "      <td>0.0</td>\n",
       "    </tr>\n",
       "  </tbody>\n",
       "</table>\n",
       "</div>"
      ],
      "text/plain": [
       "  PassengerId  Cabin   Age  RoomService  FoodCourt  ShoppingMall     Spa  \\\n",
       "0     0013_01  G/3/S  27.0          0.0        0.0           0.0     0.0   \n",
       "1     0018_01  F/4/S  19.0          0.0        9.0           0.0  2823.0   \n",
       "2     0019_01  C/0/S  31.0          0.0        0.0           0.0     0.0   \n",
       "3     0021_01  C/1/S  38.0          0.0     6652.0           0.0   181.0   \n",
       "4     0023_01  F/5/S  20.0         10.0        0.0         635.0     0.0   \n",
       "\n",
       "   VRDeck              Name  HomePlanet_Europa  HomePlanet_Mars  \\\n",
       "0     0.0   Nelly Carsoning                0.0              0.0   \n",
       "1     0.0    Lerome Peckers                0.0              0.0   \n",
       "2     0.0   Sabih Unhearfus                1.0              0.0   \n",
       "3   585.0  Meratz Caltilter                1.0              0.0   \n",
       "4     0.0   Brence Harperez                0.0              0.0   \n",
       "\n",
       "   CryoSleep_True  Destination_PSO J318.5-22  Destination_TRAPPIST-1e  \\\n",
       "0             1.0                        0.0                      1.0   \n",
       "1             0.0                        0.0                      1.0   \n",
       "2             1.0                        0.0                      0.0   \n",
       "3             0.0                        0.0                      1.0   \n",
       "4             0.0                        0.0                      1.0   \n",
       "\n",
       "   VIP_True  \n",
       "0       0.0  \n",
       "1       0.0  \n",
       "2       0.0  \n",
       "3       0.0  \n",
       "4       0.0  "
      ]
     },
     "execution_count": 33,
     "metadata": {},
     "output_type": "execute_result"
    }
   ],
   "source": [
    "# Filling missing categorical values with mode (most frequent value) of each column\n",
    "for column in df_test[categorical_cols].columns:\n",
    "    if df_test[column].dtype == 'object':  # Check if column is categorical\n",
    "        mode_value = df_test[column].mode()[0]  # Calculate mode\n",
    "        df_test[column].fillna(mode_value, inplace=True)  # Fill missing values with mode\n",
    "\n",
    "# Initialize the OneHotEncoder\n",
    "encoder = OneHotEncoder(drop='first', sparse=False)\n",
    "\n",
    "# Fit and transform the encoder on the selected columns\n",
    "encoded_cols = encoder.fit_transform(df_test[categorical_cols])\n",
    "\n",
    "# Get the feature names after one-hot encoding\n",
    "feature_names = encoder.get_feature_names_out(categorical_cols)\n",
    "\n",
    "# Create a DataFrame from the encoded columns with proper column names\n",
    "encoded_df = pd.DataFrame(encoded_cols, columns=feature_names)\n",
    "\n",
    "# Concatenate the encoded DataFrame with the original DataFrame\n",
    "df_test_encoded = pd.concat([df_test.drop(columns=categorical_cols), encoded_df], axis=1)\n",
    "\n",
    "df_test_encoded.head(5)"
   ]
  },
  {
   "cell_type": "markdown",
   "id": "b84ebecc-fdf7-4b26-b5e5-679d7523b97c",
   "metadata": {
    "tags": []
   },
   "source": [
    "## 4.0 Train and Validation Test"
   ]
  },
  {
   "cell_type": "code",
   "execution_count": 34,
   "id": "c574c7a7-4c96-432d-ad3c-d6e64a4c5617",
   "metadata": {
    "tags": []
   },
   "outputs": [],
   "source": [
    "from sklearn.model_selection import train_test_split\n",
    "\n",
    "# Assuming df_encoded is your DataFrame\n",
    "# X contains all the feature columns except the target column\n",
    "X = df_encoded.drop('Transported', axis=1)\n",
    "\n",
    "# y contains only the target column\n",
    "y = df_encoded['Transported']\n",
    "\n",
    "# Splitting the data into training and testing sets\n",
    "train_inputs, val_inputs, train_targets,  val_targets = train_test_split(X, y, test_size=0.2, random_state=42)"
   ]
  },
  {
   "cell_type": "markdown",
   "id": "03b6acc1-6433-46e4-9627-ee15a251c687",
   "metadata": {
    "tags": []
   },
   "source": [
    "### 4.1 Model Trainning"
   ]
  },
  {
   "cell_type": "code",
   "execution_count": 35,
   "id": "9492d9ab-91fa-48be-8621-badfe8f45499",
   "metadata": {
    "tags": []
   },
   "outputs": [],
   "source": [
    "from sklearn.ensemble import RandomForestClassifier"
   ]
  },
  {
   "cell_type": "code",
   "execution_count": 36,
   "id": "c6151aa7-be88-4b4c-95e4-b78d9f012457",
   "metadata": {
    "tags": []
   },
   "outputs": [],
   "source": [
    "\n",
    "clf1 = RandomForestClassifier()"
   ]
  },
  {
   "cell_type": "code",
   "execution_count": 37,
   "id": "65615ca7-a493-4dc0-8659-f8e0106d927c",
   "metadata": {
    "tags": []
   },
   "outputs": [
    {
     "data": {
      "text/html": [
       "<style>#sk-container-id-2 {color: black;background-color: white;}#sk-container-id-2 pre{padding: 0;}#sk-container-id-2 div.sk-toggleable {background-color: white;}#sk-container-id-2 label.sk-toggleable__label {cursor: pointer;display: block;width: 100%;margin-bottom: 0;padding: 0.3em;box-sizing: border-box;text-align: center;}#sk-container-id-2 label.sk-toggleable__label-arrow:before {content: \"▸\";float: left;margin-right: 0.25em;color: #696969;}#sk-container-id-2 label.sk-toggleable__label-arrow:hover:before {color: black;}#sk-container-id-2 div.sk-estimator:hover label.sk-toggleable__label-arrow:before {color: black;}#sk-container-id-2 div.sk-toggleable__content {max-height: 0;max-width: 0;overflow: hidden;text-align: left;background-color: #f0f8ff;}#sk-container-id-2 div.sk-toggleable__content pre {margin: 0.2em;color: black;border-radius: 0.25em;background-color: #f0f8ff;}#sk-container-id-2 input.sk-toggleable__control:checked~div.sk-toggleable__content {max-height: 200px;max-width: 100%;overflow: auto;}#sk-container-id-2 input.sk-toggleable__control:checked~label.sk-toggleable__label-arrow:before {content: \"▾\";}#sk-container-id-2 div.sk-estimator input.sk-toggleable__control:checked~label.sk-toggleable__label {background-color: #d4ebff;}#sk-container-id-2 div.sk-label input.sk-toggleable__control:checked~label.sk-toggleable__label {background-color: #d4ebff;}#sk-container-id-2 input.sk-hidden--visually {border: 0;clip: rect(1px 1px 1px 1px);clip: rect(1px, 1px, 1px, 1px);height: 1px;margin: -1px;overflow: hidden;padding: 0;position: absolute;width: 1px;}#sk-container-id-2 div.sk-estimator {font-family: monospace;background-color: #f0f8ff;border: 1px dotted black;border-radius: 0.25em;box-sizing: border-box;margin-bottom: 0.5em;}#sk-container-id-2 div.sk-estimator:hover {background-color: #d4ebff;}#sk-container-id-2 div.sk-parallel-item::after {content: \"\";width: 100%;border-bottom: 1px solid gray;flex-grow: 1;}#sk-container-id-2 div.sk-label:hover label.sk-toggleable__label {background-color: #d4ebff;}#sk-container-id-2 div.sk-serial::before {content: \"\";position: absolute;border-left: 1px solid gray;box-sizing: border-box;top: 0;bottom: 0;left: 50%;z-index: 0;}#sk-container-id-2 div.sk-serial {display: flex;flex-direction: column;align-items: center;background-color: white;padding-right: 0.2em;padding-left: 0.2em;position: relative;}#sk-container-id-2 div.sk-item {position: relative;z-index: 1;}#sk-container-id-2 div.sk-parallel {display: flex;align-items: stretch;justify-content: center;background-color: white;position: relative;}#sk-container-id-2 div.sk-item::before, #sk-container-id-2 div.sk-parallel-item::before {content: \"\";position: absolute;border-left: 1px solid gray;box-sizing: border-box;top: 0;bottom: 0;left: 50%;z-index: -1;}#sk-container-id-2 div.sk-parallel-item {display: flex;flex-direction: column;z-index: 1;position: relative;background-color: white;}#sk-container-id-2 div.sk-parallel-item:first-child::after {align-self: flex-end;width: 50%;}#sk-container-id-2 div.sk-parallel-item:last-child::after {align-self: flex-start;width: 50%;}#sk-container-id-2 div.sk-parallel-item:only-child::after {width: 0;}#sk-container-id-2 div.sk-dashed-wrapped {border: 1px dashed gray;margin: 0 0.4em 0.5em 0.4em;box-sizing: border-box;padding-bottom: 0.4em;background-color: white;}#sk-container-id-2 div.sk-label label {font-family: monospace;font-weight: bold;display: inline-block;line-height: 1.2em;}#sk-container-id-2 div.sk-label-container {text-align: center;}#sk-container-id-2 div.sk-container {/* jupyter's `normalize.less` sets `[hidden] { display: none; }` but bootstrap.min.css set `[hidden] { display: none !important; }` so we also need the `!important` here to be able to override the default hidden behavior on the sphinx rendered scikit-learn.org. See: https://github.com/scikit-learn/scikit-learn/issues/21755 */display: inline-block !important;position: relative;}#sk-container-id-2 div.sk-text-repr-fallback {display: none;}</style><div id=\"sk-container-id-2\" class=\"sk-top-container\"><div class=\"sk-text-repr-fallback\"><pre>RandomForestClassifier()</pre><b>In a Jupyter environment, please rerun this cell to show the HTML representation or trust the notebook. <br />On GitHub, the HTML representation is unable to render, please try loading this page with nbviewer.org.</b></div><div class=\"sk-container\" hidden><div class=\"sk-item\"><div class=\"sk-estimator sk-toggleable\"><input class=\"sk-toggleable__control sk-hidden--visually\" id=\"sk-estimator-id-2\" type=\"checkbox\" checked><label for=\"sk-estimator-id-2\" class=\"sk-toggleable__label sk-toggleable__label-arrow\">RandomForestClassifier</label><div class=\"sk-toggleable__content\"><pre>RandomForestClassifier()</pre></div></div></div></div></div>"
      ],
      "text/plain": [
       "RandomForestClassifier()"
      ]
     },
     "execution_count": 37,
     "metadata": {},
     "output_type": "execute_result"
    }
   ],
   "source": [
    "\n",
    "clf1.fit(train_inputs, train_targets)"
   ]
  },
  {
   "cell_type": "markdown",
   "id": "a8fde153-57a8-4750-9dc7-744071fafad0",
   "metadata": {
    "tags": []
   },
   "source": [
    "### 4.2 Model Prediction and Evaluation"
   ]
  },
  {
   "cell_type": "code",
   "execution_count": 38,
   "id": "270851ff-2119-47ad-ae19-0c6de62a3bc8",
   "metadata": {
    "tags": []
   },
   "outputs": [],
   "source": [
    "from sklearn.metrics import accuracy_score\n",
    "from sklearn.metrics import mean_squared_error, mean_squared_log_error"
   ]
  },
  {
   "cell_type": "code",
   "execution_count": 39,
   "id": "16322f70-280b-4699-93a9-111e4725d7c4",
   "metadata": {
    "tags": []
   },
   "outputs": [
    {
     "name": "stdout",
     "output_type": "stream",
     "text": [
      "Accuracy: 0.772857964347326\n"
     ]
    }
   ],
   "source": [
    "# Make predictions on the test data\n",
    "predictions = clf1.predict(val_inputs)\n",
    "\n",
    "# Calculate the accuracy score\n",
    "accuracy = accuracy_score(val_targets, predictions)\n",
    "\n",
    "print(\"Accuracy:\", accuracy)"
   ]
  },
  {
   "cell_type": "markdown",
   "id": "23f80bf1-9967-45ff-86ae-2fccbfbabff2",
   "metadata": {},
   "source": [
    "### 4.3 Hyperparameter Tuning"
   ]
  },
  {
   "cell_type": "code",
   "execution_count": 40,
   "id": "3e5fe1a0-cb7b-4be4-91f3-cde8c92b239e",
   "metadata": {
    "tags": []
   },
   "outputs": [],
   "source": [
    "def test_params(**params):\n",
    "    model = RandomForestClassifier(n_jobs =-1, **params).fit(train_inputs, train_targets)\n",
    "    train_rmse = mean_squared_error(model.predict(train_inputs), train_targets, squared=False)\n",
    "    val_rmse = mean_squared_error(model.predict(val_inputs), val_targets, squared=False)\n",
    "    return train_rmse, val_rmse\n",
    "\n",
    "def test_param_and_plot(param_name, param_values):\n",
    "    train_errors, val_errors = [], [] \n",
    "    for value in param_values:\n",
    "        params = {param_name: value}\n",
    "        train_rmse, val_rmse = test_params(**params)\n",
    "        train_errors.append(train_rmse)\n",
    "        val_errors.append(val_rmse)\n",
    "    plt.figure(figsize=(10,6))\n",
    "    plt.title('Overfitting curve: ' + param_name)\n",
    "    plt.plot(param_values, train_errors, 'b-o')\n",
    "    plt.plot(param_values, val_errors, 'r-o')\n",
    "    plt.xlabel(param_name)\n",
    "    plt.ylabel('RMSE')\n",
    "    plt.legend(['Training', 'Validation'])"
   ]
  },
  {
   "cell_type": "code",
   "execution_count": 41,
   "id": "daeef03e-b3db-4452-870b-fd1581a12a77",
   "metadata": {
    "tags": []
   },
   "outputs": [
    {
     "data": {
      "image/png": "[encoded data removed]",
      "text/plain": [
       "<Figure size 1000x600 with 1 Axes>"
      ]
     },
     "metadata": {},
     "output_type": "display_data"
    }
   ],
   "source": [
    "test_param_and_plot('max_depth', [1,2,3,4,5,6,7,8,9,10,15,25,35,45,55,65,75,85])"
   ]
  },
  {
   "cell_type": "code",
   "execution_count": 42,
   "id": "03f3090d-aa1c-468d-865b-87cf3a4b2165",
   "metadata": {
    "tags": []
   },
   "outputs": [
    {
     "data": {
      "image/png": "[encoded data removed]",
      "text/plain": [
       "<Figure size 1000x600 with 1 Axes>"
      ]
     },
     "metadata": {},
     "output_type": "display_data"
    }
   ],
   "source": [
    "test_param_and_plot('max_leaf_nodes', [3,6,9,12,16,20,24,28,36,45,50,60,65,75,85,95,115])"
   ]
  },
  {
   "cell_type": "code",
   "execution_count": 43,
   "id": "0a545e15-c4e6-4334-b89a-fb8fa3bcc683",
   "metadata": {
    "tags": []
   },
   "outputs": [
    {
     "data": {
      "image/png": "[encoded data removed]",
      "text/plain": [
       "<Figure size 1000x600 with 1 Axes>"
      ]
     },
     "metadata": {},
     "output_type": "display_data"
    }
   ],
   "source": [
    "test_param_and_plot('max_features', [1,2,3,4,5,6,7,10,20,25,35,45,55,75,85])"
   ]
  },
  {
   "cell_type": "code",
   "execution_count": 44,
   "id": "1cbccc95-6ece-4b8f-817c-5bc96ad0319d",
   "metadata": {
    "tags": []
   },
   "outputs": [
    {
     "data": {
      "image/png": "[encoded data removed]",
      "text/plain": [
       "<Figure size 1000x600 with 1 Axes>"
      ]
     },
     "metadata": {},
     "output_type": "display_data"
    }
   ],
   "source": [
    "test_param_and_plot('n_estimators', [1,2,3,4,5,6,7,8,9,10,11,12,13,14,15,16,17,18,19,20,25,35,45,55,65,75,85,95,100])"
   ]
  },
  {
   "cell_type": "code",
   "execution_count": 45,
   "id": "ca19b9a6-4951-4255-a724-254347fcb329",
   "metadata": {
    "tags": []
   },
   "outputs": [
    {
     "data": {
      "image/png": "[encoded data removed]",
      "text/plain": [
       "<Figure size 1000x600 with 1 Axes>"
      ]
     },
     "metadata": {},
     "output_type": "display_data"
    }
   ],
   "source": [
    "test_param_and_plot('min_samples_split', [1,2,3,4,5,6,7,8,9,10])"
   ]
  },
  {
   "cell_type": "markdown",
   "id": "de116878-c419-4585-86a2-400f5b4b5f25",
   "metadata": {
    "tags": []
   },
   "source": [
    "## 5.0 Final Model Trainning and Prediction "
   ]
  },
  {
   "cell_type": "code",
   "execution_count": 46,
   "id": "28563064-adbb-4489-aa03-d9bdd9ae3b29",
   "metadata": {
    "tags": []
   },
   "outputs": [],
   "source": [
    "# Create a new DataFrame with only the \"passenger_id\" column\n",
    "passenger_id = df_test_encoded[['PassengerId']].squeeze()"
   ]
  },
  {
   "cell_type": "code",
   "execution_count": 47,
   "id": "5699c6cf-2eab-4597-bfbe-37a18afe5095",
   "metadata": {
    "tags": []
   },
   "outputs": [],
   "source": [
    "# Specify columns to remove\n",
    "columns_to_remove = ['PassengerId', 'Cabin', 'Name']\n",
    "\n",
    "# Drop the specified columns\n",
    "df_test_encoded = df_test_encoded.drop(columns=columns_to_remove)\n"
   ]
  },
  {
   "cell_type": "code",
   "execution_count": 48,
   "id": "a1e99470-a86b-4e16-95df-6ac265fa333f",
   "metadata": {
    "tags": []
   },
   "outputs": [],
   "source": [
    "# Assuming df_encoded is your DataFrame\n",
    "# X contains all the feature columns except the target column\n",
    "X = df_encoded.drop('Transported', axis=1)\n",
    "\n",
    "# y contains only the target column\n",
    "y = df_encoded['Transported']"
   ]
  },
  {
   "cell_type": "markdown",
   "id": "8ffd6d95-7510-4ce8-b554-a209b11fffe4",
   "metadata": {
    "tags": []
   },
   "source": [
    "### 5.1 Trainning the Final Model"
   ]
  },
  {
   "cell_type": "code",
   "execution_count": 49,
   "id": "8ef0dbc7-d271-4f2e-9f28-5490aeea6efc",
   "metadata": {
    "tags": []
   },
   "outputs": [],
   "source": [
    "clf2 = RandomForestClassifier(max_depth=70,max_leaf_nodes=100,max_features=10,n_estimators=85,random_state=42)"
   ]
  },
  {
   "cell_type": "code",
   "execution_count": 50,
   "id": "3942d0c2-4f94-406f-984e-1fb7d9a6f899",
   "metadata": {
    "tags": []
   },
   "outputs": [
    {
     "data": {
      "text/html": [
       "<style>#sk-container-id-3 {color: black;background-color: white;}#sk-container-id-3 pre{padding: 0;}#sk-container-id-3 div.sk-toggleable {background-color: white;}#sk-container-id-3 label.sk-toggleable__label {cursor: pointer;display: block;width: 100%;margin-bottom: 0;padding: 0.3em;box-sizing: border-box;text-align: center;}#sk-container-id-3 label.sk-toggleable__label-arrow:before {content: \"▸\";float: left;margin-right: 0.25em;color: #696969;}#sk-container-id-3 label.sk-toggleable__label-arrow:hover:before {color: black;}#sk-container-id-3 div.sk-estimator:hover label.sk-toggleable__label-arrow:before {color: black;}#sk-container-id-3 div.sk-toggleable__content {max-height: 0;max-width: 0;overflow: hidden;text-align: left;background-color: #f0f8ff;}#sk-container-id-3 div.sk-toggleable__content pre {margin: 0.2em;color: black;border-radius: 0.25em;background-color: #f0f8ff;}#sk-container-id-3 input.sk-toggleable__control:checked~div.sk-toggleable__content {max-height: 200px;max-width: 100%;overflow: auto;}#sk-container-id-3 input.sk-toggleable__control:checked~label.sk-toggleable__label-arrow:before {content: \"▾\";}#sk-container-id-3 div.sk-estimator input.sk-toggleable__control:checked~label.sk-toggleable__label {background-color: #d4ebff;}#sk-container-id-3 div.sk-label input.sk-toggleable__control:checked~label.sk-toggleable__label {background-color: #d4ebff;}#sk-container-id-3 input.sk-hidden--visually {border: 0;clip: rect(1px 1px 1px 1px);clip: rect(1px, 1px, 1px, 1px);height: 1px;margin: -1px;overflow: hidden;padding: 0;position: absolute;width: 1px;}#sk-container-id-3 div.sk-estimator {font-family: monospace;background-color: #f0f8ff;border: 1px dotted black;border-radius: 0.25em;box-sizing: border-box;margin-bottom: 0.5em;}#sk-container-id-3 div.sk-estimator:hover {background-color: #d4ebff;}#sk-container-id-3 div.sk-parallel-item::after {content: \"\";width: 100%;border-bottom: 1px solid gray;flex-grow: 1;}#sk-container-id-3 div.sk-label:hover label.sk-toggleable__label {background-color: #d4ebff;}#sk-container-id-3 div.sk-serial::before {content: \"\";position: absolute;border-left: 1px solid gray;box-sizing: border-box;top: 0;bottom: 0;left: 50%;z-index: 0;}#sk-container-id-3 div.sk-serial {display: flex;flex-direction: column;align-items: center;background-color: white;padding-right: 0.2em;padding-left: 0.2em;position: relative;}#sk-container-id-3 div.sk-item {position: relative;z-index: 1;}#sk-container-id-3 div.sk-parallel {display: flex;align-items: stretch;justify-content: center;background-color: white;position: relative;}#sk-container-id-3 div.sk-item::before, #sk-container-id-3 div.sk-parallel-item::before {content: \"\";position: absolute;border-left: 1px solid gray;box-sizing: border-box;top: 0;bottom: 0;left: 50%;z-index: -1;}#sk-container-id-3 div.sk-parallel-item {display: flex;flex-direction: column;z-index: 1;position: relative;background-color: white;}#sk-container-id-3 div.sk-parallel-item:first-child::after {align-self: flex-end;width: 50%;}#sk-container-id-3 div.sk-parallel-item:last-child::after {align-self: flex-start;width: 50%;}#sk-container-id-3 div.sk-parallel-item:only-child::after {width: 0;}#sk-container-id-3 div.sk-dashed-wrapped {border: 1px dashed gray;margin: 0 0.4em 0.5em 0.4em;box-sizing: border-box;padding-bottom: 0.4em;background-color: white;}#sk-container-id-3 div.sk-label label {font-family: monospace;font-weight: bold;display: inline-block;line-height: 1.2em;}#sk-container-id-3 div.sk-label-container {text-align: center;}#sk-container-id-3 div.sk-container {/* jupyter's `normalize.less` sets `[hidden] { display: none; }` but bootstrap.min.css set `[hidden] { display: none !important; }` so we also need the `!important` here to be able to override the default hidden behavior on the sphinx rendered scikit-learn.org. See: https://github.com/scikit-learn/scikit-learn/issues/21755 */display: inline-block !important;position: relative;}#sk-container-id-3 div.sk-text-repr-fallback {display: none;}</style><div id=\"sk-container-id-3\" class=\"sk-top-container\"><div class=\"sk-text-repr-fallback\"><pre>RandomForestClassifier(max_depth=70, max_features=10, max_leaf_nodes=100,\n",
       "                       n_estimators=85, random_state=42)</pre><b>In a Jupyter environment, please rerun this cell to show the HTML representation or trust the notebook. <br />On GitHub, the HTML representation is unable to render, please try loading this page with nbviewer.org.</b></div><div class=\"sk-container\" hidden><div class=\"sk-item\"><div class=\"sk-estimator sk-toggleable\"><input class=\"sk-toggleable__control sk-hidden--visually\" id=\"sk-estimator-id-3\" type=\"checkbox\" checked><label for=\"sk-estimator-id-3\" class=\"sk-toggleable__label sk-toggleable__label-arrow\">RandomForestClassifier</label><div class=\"sk-toggleable__content\"><pre>RandomForestClassifier(max_depth=70, max_features=10, max_leaf_nodes=100,\n",
       "                       n_estimators=85, random_state=42)</pre></div></div></div></div></div>"
      ],
      "text/plain": [
       "RandomForestClassifier(max_depth=70, max_features=10, max_leaf_nodes=100,\n",
       "                       n_estimators=85, random_state=42)"
      ]
     },
     "execution_count": 50,
     "metadata": {},
     "output_type": "execute_result"
    }
   ],
   "source": [
    "\n",
    "clf2.fit(X, y)"
   ]
  },
  {
   "cell_type": "markdown",
   "id": "3fbcd885-3484-4e98-89c3-415719b86d7c",
   "metadata": {},
   "source": [
    "### 5.2 Making Prediction"
   ]
  },
  {
   "cell_type": "code",
   "execution_count": 51,
   "id": "16d2a411-c043-4ede-b518-230cb1080c52",
   "metadata": {
    "tags": []
   },
   "outputs": [],
   "source": [
    "# Make predictions on the test set\n",
    "test_pred = clf2.predict(df_test_encoded)"
   ]
  },
  {
   "cell_type": "code",
   "execution_count": 52,
   "id": "b65ac45b-37e2-4365-94a5-fd5d862d27f7",
   "metadata": {
    "tags": []
   },
   "outputs": [
    {
     "data": {
      "text/plain": [
       "array([1, 0, 1, ..., 1, 1, 1])"
      ]
     },
     "execution_count": 52,
     "metadata": {},
     "output_type": "execute_result"
    }
   ],
   "source": [
    "test_pred"
   ]
  },
  {
   "cell_type": "code",
   "execution_count": 53,
   "id": "cbcd489a-1416-4a0a-af86-b8020fac00e5",
   "metadata": {
    "tags": []
   },
   "outputs": [
    {
     "data": {
      "text/plain": [
       "(4277,)"
      ]
     },
     "execution_count": 53,
     "metadata": {},
     "output_type": "execute_result"
    }
   ],
   "source": [
    "test_pred.shape"
   ]
  },
  {
   "cell_type": "markdown",
   "id": "0a45b072-7dbd-4222-9506-273e09682ffe",
   "metadata": {
    "tags": []
   },
   "source": [
    "### 5.3 Making a Submission CSV File "
   ]
  },
  {
   "cell_type": "code",
   "execution_count": 54,
   "id": "49aee835-9780-47a9-b8b5-0afe3a67b99b",
   "metadata": {
    "tags": []
   },
   "outputs": [],
   "source": [
    "test_pred = test_pred.astype(bool)"
   ]
  },
  {
   "cell_type": "code",
   "execution_count": 55,
   "id": "fcde4cf8-353b-4af4-a45a-eabeff6d84fa",
   "metadata": {
    "tags": []
   },
   "outputs": [],
   "source": [
    "# Create a DataFrame with 'PassengerId' and 'y_pred'\n",
    "submission_df = pd.DataFrame({'PassengerId': passenger_id, 'Transported': test_pred})\n",
    "\n",
    "# Save the predictions to a CSV file\n",
    "submission_df.to_csv('submission.csv', index=False)"
   ]
  },
  {
   "cell_type": "code",
   "execution_count": null,
   "id": "643e790d-8293-460d-9db3-59561492a170",
   "metadata": {},
   "outputs": [],
   "source": []
  }
 ],
 "metadata": {
  "kernelspec": {
   "display_name": "Python 3 (ipykernel)",
   "language": "python",
   "name": "python3"
  },
  "language_info": {
   "codemirror_mode": {
    "name": "ipython",
    "version": 3
   },
   "file_extension": ".py",
   "mimetype": "text/x-python",
   "name": "python",
   "nbconvert_exporter": "python",
   "pygments_lexer": "ipython3",
   "version": "3.10.9"
  }
 },
 "nbformat": 4,
 "nbformat_minor": 5
}
